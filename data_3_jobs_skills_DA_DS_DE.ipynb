{
 "cells": [
  {
   "cell_type": "code",
   "execution_count": 81,
   "metadata": {},
   "outputs": [],
   "source": [
    "import pandas as pd\n",
    "import matplotlib.pyplot as plt\n",
    "import datetime as dt\n",
    "from datasets import load_dataset\n",
    "import ast\n",
    "import matplotlib.ticker as ticker\n",
    "import seaborn as sns\n",
    "from adjustText import adjust_text\n",
    "import matplotlib.colors as mcolors\n"
   ]
  },
  {
   "cell_type": "code",
   "execution_count": 41,
   "metadata": {},
   "outputs": [],
   "source": [
    "ds = pd.read_pickle('datasets/ds_cleaned_2')"
   ]
  },
  {
   "cell_type": "code",
   "execution_count": 42,
   "metadata": {},
   "outputs": [],
   "source": [
    "ds = ds.drop('job_type_skills_copy' , axis=1)\n"
   ]
  },
  {
   "cell_type": "code",
   "execution_count": 93,
   "metadata": {},
   "outputs": [],
   "source": [
    "ds.to_pickle('data_graphs/DA_DS_DE_skills_occurance_likelyhood')"
   ]
  },
  {
   "cell_type": "code",
   "execution_count": 55,
   "metadata": {},
   "outputs": [
    {
     "data": {
      "text/html": [
       "<div>\n",
       "<style scoped>\n",
       "    .dataframe tbody tr th:only-of-type {\n",
       "        vertical-align: middle;\n",
       "    }\n",
       "\n",
       "    .dataframe tbody tr th {\n",
       "        vertical-align: top;\n",
       "    }\n",
       "\n",
       "    .dataframe thead th {\n",
       "        text-align: right;\n",
       "    }\n",
       "</style>\n",
       "<table border=\"1\" class=\"dataframe\">\n",
       "  <thead>\n",
       "    <tr style=\"text-align: right;\">\n",
       "      <th></th>\n",
       "      <th>job_skills_copy</th>\n",
       "      <th>job_title_short</th>\n",
       "    </tr>\n",
       "  </thead>\n",
       "  <tbody>\n",
       "    <tr>\n",
       "      <th>0</th>\n",
       "      <td>sql</td>\n",
       "      <td>47.123693</td>\n",
       "    </tr>\n",
       "    <tr>\n",
       "      <th>1</th>\n",
       "      <td>excel</td>\n",
       "      <td>34.093854</td>\n",
       "    </tr>\n",
       "    <tr>\n",
       "      <th>2</th>\n",
       "      <td>python</td>\n",
       "      <td>29.160418</td>\n",
       "    </tr>\n",
       "    <tr>\n",
       "      <th>3</th>\n",
       "      <td>tableau</td>\n",
       "      <td>23.686305</td>\n",
       "    </tr>\n",
       "    <tr>\n",
       "      <th>4</th>\n",
       "      <td>power bi</td>\n",
       "      <td>20.080592</td>\n",
       "    </tr>\n",
       "  </tbody>\n",
       "</table>\n",
       "</div>"
      ],
      "text/plain": [
       "  job_skills_copy  job_title_short\n",
       "0             sql        47.123693\n",
       "1           excel        34.093854\n",
       "2          python        29.160418\n",
       "3         tableau        23.686305\n",
       "4        power bi        20.080592"
      ]
     },
     "execution_count": 55,
     "metadata": {},
     "output_type": "execute_result"
    }
   ],
   "source": [
    "DA = ds[ds['job_title_short']=='Data Analyst']\n",
    "total_DA_jobs =DA['job_title_short'].count()\n",
    "DA_exploded = DA.explode('job_skills_copy')\n",
    "DA_exploded.drop_duplicates(inplace=True)\n",
    "DA_exploded_2 = DA_exploded.groupby('job_skills_copy')['job_title_short'].count()\n",
    "DA_exploded_3 = DA_exploded_2.sort_values(ascending=False).head(5).to_frame()\n",
    "DA_exploded_3.reset_index(inplace=True)\n",
    "DA_exploded_3['job_title_short'] = DA_exploded_3['job_title_short'] * 100 /total_DA_jobs\n",
    "DA_exploded_3"
   ]
  },
  {
   "cell_type": "code",
   "execution_count": 57,
   "metadata": {},
   "outputs": [
    {
     "data": {
      "text/html": [
       "<div>\n",
       "<style scoped>\n",
       "    .dataframe tbody tr th:only-of-type {\n",
       "        vertical-align: middle;\n",
       "    }\n",
       "\n",
       "    .dataframe tbody tr th {\n",
       "        vertical-align: top;\n",
       "    }\n",
       "\n",
       "    .dataframe thead th {\n",
       "        text-align: right;\n",
       "    }\n",
       "</style>\n",
       "<table border=\"1\" class=\"dataframe\">\n",
       "  <thead>\n",
       "    <tr style=\"text-align: right;\">\n",
       "      <th></th>\n",
       "      <th>job_skills_copy</th>\n",
       "      <th>job_title_short</th>\n",
       "    </tr>\n",
       "  </thead>\n",
       "  <tbody>\n",
       "    <tr>\n",
       "      <th>0</th>\n",
       "      <td>sql</td>\n",
       "      <td>60.714976</td>\n",
       "    </tr>\n",
       "    <tr>\n",
       "      <th>1</th>\n",
       "      <td>python</td>\n",
       "      <td>57.974610</td>\n",
       "    </tr>\n",
       "    <tr>\n",
       "      <th>2</th>\n",
       "      <td>aws</td>\n",
       "      <td>33.309168</td>\n",
       "    </tr>\n",
       "    <tr>\n",
       "      <th>3</th>\n",
       "      <td>azure</td>\n",
       "      <td>32.573463</td>\n",
       "    </tr>\n",
       "    <tr>\n",
       "      <th>4</th>\n",
       "      <td>spark</td>\n",
       "      <td>28.803110</td>\n",
       "    </tr>\n",
       "  </tbody>\n",
       "</table>\n",
       "</div>"
      ],
      "text/plain": [
       "  job_skills_copy  job_title_short\n",
       "0             sql        60.714976\n",
       "1          python        57.974610\n",
       "2             aws        33.309168\n",
       "3           azure        32.573463\n",
       "4           spark        28.803110"
      ]
     },
     "execution_count": 57,
     "metadata": {},
     "output_type": "execute_result"
    }
   ],
   "source": [
    "DE = ds[ds['job_title_short']=='Data Engineer']\n",
    "total_DE_jobs =DE['job_title_short'].count()\n",
    "DE_exploded = DE.explode('job_skills_copy')\n",
    "DE_exploded.drop_duplicates(inplace=True)\n",
    "DE_exploded_2 = DE_exploded.groupby('job_skills_copy')['job_title_short'].count()\n",
    "DE_exploded_3 = DE_exploded_2.sort_values(ascending=False).head(5).to_frame()\n",
    "DE_exploded_3.reset_index(inplace=True)\n",
    "DE_exploded_3['job_title_short'] = DE_exploded_3['job_title_short'] * 100 /total_DE_jobs\n",
    "DE_exploded_3"
   ]
  },
  {
   "cell_type": "code",
   "execution_count": 58,
   "metadata": {},
   "outputs": [
    {
     "data": {
      "text/html": [
       "<div>\n",
       "<style scoped>\n",
       "    .dataframe tbody tr th:only-of-type {\n",
       "        vertical-align: middle;\n",
       "    }\n",
       "\n",
       "    .dataframe tbody tr th {\n",
       "        vertical-align: top;\n",
       "    }\n",
       "\n",
       "    .dataframe thead th {\n",
       "        text-align: right;\n",
       "    }\n",
       "</style>\n",
       "<table border=\"1\" class=\"dataframe\">\n",
       "  <thead>\n",
       "    <tr style=\"text-align: right;\">\n",
       "      <th></th>\n",
       "      <th>job_skills_copy</th>\n",
       "      <th>job_title_short</th>\n",
       "    </tr>\n",
       "  </thead>\n",
       "  <tbody>\n",
       "    <tr>\n",
       "      <th>0</th>\n",
       "      <td>python</td>\n",
       "      <td>65.960769</td>\n",
       "    </tr>\n",
       "    <tr>\n",
       "      <th>1</th>\n",
       "      <td>sql</td>\n",
       "      <td>45.821215</td>\n",
       "    </tr>\n",
       "    <tr>\n",
       "      <th>2</th>\n",
       "      <td>r</td>\n",
       "      <td>34.562849</td>\n",
       "    </tr>\n",
       "    <tr>\n",
       "      <th>3</th>\n",
       "      <td>tableau</td>\n",
       "      <td>17.087245</td>\n",
       "    </tr>\n",
       "    <tr>\n",
       "      <th>4</th>\n",
       "      <td>aws</td>\n",
       "      <td>15.237747</td>\n",
       "    </tr>\n",
       "  </tbody>\n",
       "</table>\n",
       "</div>"
      ],
      "text/plain": [
       "  job_skills_copy  job_title_short\n",
       "0          python        65.960769\n",
       "1             sql        45.821215\n",
       "2               r        34.562849\n",
       "3         tableau        17.087245\n",
       "4             aws        15.237747"
      ]
     },
     "execution_count": 58,
     "metadata": {},
     "output_type": "execute_result"
    }
   ],
   "source": [
    "DS = ds[ds['job_title_short']=='Data Scientist']\n",
    "total_DS_jobs =DS['job_title_short'].count()\n",
    "DS_exploded = DS.explode('job_skills_copy')\n",
    "DS_exploded.drop_duplicates(inplace=True)\n",
    "DS_exploded_2 = DS_exploded.groupby('job_skills_copy')['job_title_short'].count()\n",
    "DS_exploded_3 = DS_exploded_2.sort_values(ascending=False).head(5).to_frame()\n",
    "DS_exploded_3.reset_index(inplace=True)\n",
    "DS_exploded_3['job_title_short'] = DS_exploded_3['job_title_short'] * 100 /total_DS_jobs\n",
    "DS_exploded_3"
   ]
  },
  {
   "cell_type": "code",
   "execution_count": 92,
   "metadata": {},
   "outputs": [
    {
     "data": {
      "image/png": "[encoded data removed]",
      "text/plain": [
       "<Figure size 1000x600 with 3 Axes>"
      ]
     },
     "metadata": {},
     "output_type": "display_data"
    }
   ],
   "source": [
    "fig , ax = plt.subplots(3,1 , figsize=(10,6))\n",
    "fig.suptitle('Percentage of skill getting asked in Job')\n",
    "\n",
    "sns.barplot(DS_exploded_3 , x='job_title_short' , y='job_skills_copy' , ax=ax[0] , hue='job_skills_copy' , palette='rocket')\n",
    "ax[0].set_title(\"Data Scientist\")\n",
    "ax[0].set_ylabel('')\n",
    "ax[0].set_xlabel('')\n",
    "ax[0].set_xlim(0,70)\n",
    "\n",
    "\n",
    "sns.barplot(DE_exploded_3 , x='job_title_short' , y='job_skills_copy' , ax=ax[1] ,hue='job_skills_copy' , palette='rocket')\n",
    "ax[1].set_title(\"Data Engineer\")\n",
    "ax[1].set_ylabel('')\n",
    "ax[1].set_xlabel('')\n",
    "ax[1].set_xlim(0,70)\n",
    "\n",
    "\n",
    "sns.barplot(DA_exploded_3 , x='job_title_short' , y='job_skills_copy' , ax=ax[2] , hue='job_skills_copy' ,palette='rocket' )\n",
    "ax[2].set_title(\"Data Analyst\")\n",
    "ax[2].set_ylabel('')\n",
    "ax[2].set_xlabel('Chances of appearing in job Posting')\n",
    "ax[2].set_xlim(0,70)\n",
    "\n",
    "norm = mcolors.Normalize(vmin=0, vmax=100)\n",
    "plt.tight_layout()\n"
   ]
  },
  {
   "cell_type": "code",
   "execution_count": 48,
   "metadata": {},
   "outputs": [],
   "source": []
  },
  {
   "cell_type": "code",
   "execution_count": 49,
   "metadata": {},
   "outputs": [],
   "source": []
  },
  {
   "cell_type": "code",
   "execution_count": 53,
   "metadata": {},
   "outputs": [],
   "source": []
  },
  {
   "cell_type": "code",
   "execution_count": 54,
   "metadata": {},
   "outputs": [
    {
     "data": {
      "text/html": [
       "<div>\n",
       "<style scoped>\n",
       "    .dataframe tbody tr th:only-of-type {\n",
       "        vertical-align: middle;\n",
       "    }\n",
       "\n",
       "    .dataframe tbody tr th {\n",
       "        vertical-align: top;\n",
       "    }\n",
       "\n",
       "    .dataframe thead th {\n",
       "        text-align: right;\n",
       "    }\n",
       "</style>\n",
       "<table border=\"1\" class=\"dataframe\">\n",
       "  <thead>\n",
       "    <tr style=\"text-align: right;\">\n",
       "      <th></th>\n",
       "      <th>job_skills_copy</th>\n",
       "      <th>job_title_short</th>\n",
       "    </tr>\n",
       "  </thead>\n",
       "  <tbody>\n",
       "    <tr>\n",
       "      <th>0</th>\n",
       "      <td>sql</td>\n",
       "      <td>47.123693</td>\n",
       "    </tr>\n",
       "    <tr>\n",
       "      <th>1</th>\n",
       "      <td>excel</td>\n",
       "      <td>34.093854</td>\n",
       "    </tr>\n",
       "    <tr>\n",
       "      <th>2</th>\n",
       "      <td>python</td>\n",
       "      <td>29.160418</td>\n",
       "    </tr>\n",
       "    <tr>\n",
       "      <th>3</th>\n",
       "      <td>tableau</td>\n",
       "      <td>23.686305</td>\n",
       "    </tr>\n",
       "    <tr>\n",
       "      <th>4</th>\n",
       "      <td>power bi</td>\n",
       "      <td>20.080592</td>\n",
       "    </tr>\n",
       "  </tbody>\n",
       "</table>\n",
       "</div>"
      ],
      "text/plain": [
       "  job_skills_copy  job_title_short\n",
       "0             sql        47.123693\n",
       "1           excel        34.093854\n",
       "2          python        29.160418\n",
       "3         tableau        23.686305\n",
       "4        power bi        20.080592"
      ]
     },
     "execution_count": 54,
     "metadata": {},
     "output_type": "execute_result"
    }
   ],
   "source": []
  },
  {
   "cell_type": "code",
   "execution_count": null,
   "metadata": {},
   "outputs": [],
   "source": []
  }
 ],
 "metadata": {
  "kernelspec": {
   "display_name": "python_project",
   "language": "python",
   "name": "python3"
  },
  "language_info": {
   "codemirror_mode": {
    "name": "ipython",
    "version": 3
   },
   "file_extension": ".py",
   "mimetype": "text/x-python",
   "name": "python",
   "nbconvert_exporter": "python",
   "pygments_lexer": "ipython3",
   "version": "3.11.9"
  }
 },
 "nbformat": 4,
 "nbformat_minor": 2
}
